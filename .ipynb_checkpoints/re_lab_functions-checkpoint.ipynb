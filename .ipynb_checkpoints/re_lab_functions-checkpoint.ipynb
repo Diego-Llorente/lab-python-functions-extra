{
 "cells": [
  {
   "cell_type": "code",
   "execution_count": null,
   "id": "dcf9dd47",
   "metadata": {},
   "outputs": [],
   "source": [
    "def get_unique_list(lst):\n",
    "    \"\"\"\n",
    "    Takes a list as an argument and returns a new list with unique elements from the first list.\n",
    "\n",
    "    Parameters:\n",
    "    lst (list): The input list.\n",
    "\n",
    "    Returns:\n",
    "    list: A new list with unique elements from the input list.\n",
    "    \"\"\"\n",
    "    # your code goes here\n",
    "    turn_set = set(lst)\n",
    "    turn_list = list(turn_set)\n",
    "    return turn_list"
   ]
  },
  {
   "cell_type": "code",
   "execution_count": null,
   "id": "4aa7b3c1",
   "metadata": {},
   "outputs": [],
   "source": [
    "get_unique_list([1,2,3,3,3,3,4,5] )"
   ]
  },
  {
   "cell_type": "code",
   "execution_count": null,
   "id": "b7e83278",
   "metadata": {},
   "outputs": [],
   "source": [
    "def count_case(string):\n",
    "    \"\"\"\n",
    "    Returns the number of uppercase and lowercase letters in the given string.\n",
    "\n",
    "    Parameters:\n",
    "    string (str): The string to count uppercase and lowercase letters in.\n",
    "\n",
    "    Returns:\n",
    "    A tuple containing the count of uppercase and lowercase letters in the string.\n",
    "    \"\"\"\n",
    "    # your code goes here\n",
    "    lower_count = 0\n",
    "    upper_count = 0\n",
    "    \n",
    "    for letter in string:\n",
    "        if letter == \" \":\n",
    "            pass\n",
    "        elif letter == letter.upper():\n",
    "            upper_count += 1\n",
    "        else:\n",
    "            lower_count += 1\n",
    "            \n",
    "    return {f\"Uppercase count: {upper_count}, Lowercase count: {lower_count}\"}\n",
    "\n",
    "        \n",
    "count_case(\"Hello World\")   "
   ]
  },
  {
   "cell_type": "code",
   "execution_count": null,
   "id": "47264462",
   "metadata": {},
   "outputs": [],
   "source": [
    "import string\n",
    "\n",
    "def remove_punctuation(sentence):\n",
    "    \"\"\"\n",
    "    Removes all punctuation marks (commas, periods, exclamation marks, question marks) from a sentence.\n",
    "\n",
    "    Parameters:\n",
    "    sentence (str): A string representing a sentence.\n",
    "\n",
    "    Returns:\n",
    "    str: The sentence without any punctuation marks.\n",
    "    \"\"\"\n",
    "    # your code goes here\n",
    "    \n",
    "    new_sentence = \"\"\n",
    "    \n",
    "    for letter in sentence:\n",
    "        if letter == \",\" or letter == \".\" or letter == \"!\" or letter == \":\" or letter == \"!\" or letter == \"?\" or letter == (\")\"):\n",
    "            pass\n",
    "        else:\n",
    "            new_sentence += letter\n",
    "    \n",
    "    new_sentence = \" \".join(new_sentence.split())\n",
    "    \n",
    "    return new_sentence\n",
    "    \n",
    "my_sentence = remove_punctuation(\"Note : this is an example !!! Good day : )\")\n",
    "    \n",
    "print(my_sentence)    \n",
    "\n",
    "def word_count(sentence):\n",
    "    \"\"\"\n",
    "    Counts the number of words in a given sentence. To do this properly, first it removes punctuation from the sentence.\n",
    "    Note: A word is defined as a sequence of characters separated by spaces. We can assume that there will be no leading or trailing spaces in the input sentence.\n",
    "    \n",
    "    Parameters:\n",
    "    sentence (str): A string representing a sentence.\n",
    "\n",
    "    Returns:\n",
    "    int: The number of words in the sentence.\n",
    "    \"\"\"\n",
    "    # your code goes here\n",
    "    words = sentence.split(\" \")\n",
    "\n",
    "    return len(words)\n",
    "    \n",
    "    \n",
    "word_count(my_sentence)"
   ]
  },
  {
   "cell_type": "code",
   "execution_count": null,
   "id": "3ae6f148",
   "metadata": {},
   "outputs": [],
   "source": [
    "# your code goes here\n",
    "\n",
    "def addition(num_1, num_2):\n",
    "    \n",
    "    return num_1 + num_2\n",
    "\n",
    "def subtraction(num_1, num_2):\n",
    "    \n",
    "    return num_1 - num_2\n",
    "\n",
    "def multiplication(num_1, num_2):\n",
    "    \n",
    "    return num_1 * num_2\n",
    "\n",
    "def division(num_1, num_2):\n",
    "    \n",
    "    return num_1/num_2\n",
    "\n",
    "def calculate(num_1, num_2, operation):\n",
    "    \n",
    "    if operation == addition:\n",
    "        print(addition(num_1, num_2))\n",
    "    elif operation == subtraction:\n",
    "        return subtraction(num_1, num_2)\n",
    "    elif operation == multiplication:\n",
    "        return multiplication(num_1, num_2)\n",
    "    elif operation == division:\n",
    "        return division(num_1, num_2)\n",
    "    else:\n",
    "        print(\"Invalid operation\")"
   ]
  },
  {
   "cell_type": "code",
   "execution_count": null,
   "id": "d86bf94d",
   "metadata": {},
   "outputs": [],
   "source": [
    "calculate(1,2,addition)"
   ]
  },
  {
   "cell_type": "code",
   "execution_count": null,
   "id": "2938367b",
   "metadata": {},
   "outputs": [],
   "source": [
    "calculate(1,2,subtraction)"
   ]
  },
  {
   "cell_type": "code",
   "execution_count": null,
   "id": "ff561565",
   "metadata": {},
   "outputs": [],
   "source": [
    "calculate(1,2,multiplication)"
   ]
  },
  {
   "cell_type": "code",
   "execution_count": null,
   "id": "50f2515f",
   "metadata": {},
   "outputs": [],
   "source": [
    "calculate(1,2, division)"
   ]
  },
  {
   "cell_type": "code",
   "execution_count": null,
   "id": "c0dbc407",
   "metadata": {},
   "outputs": [],
   "source": [
    "# your code goes here\n",
    "def addition(*args):\n",
    "    semi_total = [item for item in args]\n",
    "    total = semi_total[0]\n",
    "    for i in semi_total[1:]:\n",
    "        total += i\n",
    "    return total\n",
    "\n",
    "def subtraction(*args):\n",
    "    semi_total = [item for item in args]\n",
    "    total = semi_total[0]\n",
    "    for i in semi_total[1:]:\n",
    "        total -= i\n",
    "    return total\n",
    "\n",
    "def multiplication(*args):\n",
    "    semi_total = [item for item in args]\n",
    "    total = semi_total[0]\n",
    "    for i in semi_total[1:]:\n",
    "        total *= i\n",
    "    return total\n",
    "\n",
    "def division(*args):\n",
    "    semi_total = [item for item in args]\n",
    "    total = semi_total[0]\n",
    "    for i in semi_total[1:]:\n",
    "        total /= i\n",
    "    return total\n",
    "\n",
    "def calculate(*args, operation):\n",
    "    \n",
    "    if operation == addition:\n",
    "        print(addition(*args))\n",
    "    elif operation == subtraction:\n",
    "        return subtraction(*args)\n",
    "    elif operation == multiplication:\n",
    "        return multiplication(*args)\n",
    "    elif operation == division:\n",
    "        return division(*args)\n",
    "    else:\n",
    "        print(\"Invalid operation\")"
   ]
  },
  {
   "cell_type": "code",
   "execution_count": null,
   "id": "2d569c40",
   "metadata": {},
   "outputs": [],
   "source": [
    "calculate(1,2,3,operation = addition)"
   ]
  },
  {
   "cell_type": "code",
   "execution_count": null,
   "id": "b46b2987",
   "metadata": {},
   "outputs": [],
   "source": [
    "calculate(1,2,3,operation = subtraction)"
   ]
  },
  {
   "cell_type": "code",
   "execution_count": null,
   "id": "6f764ff1",
   "metadata": {},
   "outputs": [],
   "source": [
    "calculate(1,2,3,operation = multiplication)"
   ]
  },
  {
   "cell_type": "code",
   "execution_count": null,
   "id": "a5cd2c8b",
   "metadata": {},
   "outputs": [],
   "source": [
    "calculate(1,2,3,operation = division)"
   ]
  },
  {
   "cell_type": "code",
   "execution_count": null,
   "id": "17c1fecf",
   "metadata": {},
   "outputs": [],
   "source": [
    "import functions\n"
   ]
  },
  {
   "cell_type": "code",
   "execution_count": null,
   "id": "62856390",
   "metadata": {},
   "outputs": [],
   "source": [
    "# IPython extension to reload modules before executing user code.\n",
    "%load_ext autoreload\n",
    "%autoreload 2 \n",
    "\n",
    "# your code goes here"
   ]
  },
  {
   "cell_type": "code",
   "execution_count": null,
   "id": "bd0546ae",
   "metadata": {},
   "outputs": [],
   "source": []
  },
  {
   "cell_type": "code",
   "execution_count": null,
   "id": "9098ceb1",
   "metadata": {},
   "outputs": [],
   "source": []
  }
 ],
 "metadata": {
  "kernelspec": {
   "display_name": "Python 3 (ipykernel)",
   "language": "python",
   "name": "python3"
  },
  "language_info": {
   "codemirror_mode": {
    "name": "ipython",
    "version": 3
   },
   "file_extension": ".py",
   "mimetype": "text/x-python",
   "name": "python",
   "nbconvert_exporter": "python",
   "pygments_lexer": "ipython3",
   "version": "3.11.7"
  }
 },
 "nbformat": 4,
 "nbformat_minor": 5
}
